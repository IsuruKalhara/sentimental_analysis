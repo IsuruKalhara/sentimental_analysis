{
 "cells": [
  {
   "cell_type": "code",
   "execution_count": 73,
   "metadata": {},
   "outputs": [],
   "source": [
    "import nltk\n",
    "import re\n",
    "import pickle\n",
    "from sklearn.datasets import load_files\n",
    "from nltk.stem.porter import *"
   ]
  },
  {
   "cell_type": "code",
   "execution_count": 74,
   "metadata": {},
   "outputs": [],
   "source": [
    "def simplify(doc):\n",
    "    doc = re.sub(r'[^a-zA-Z\\s]', '', doc, re.I|re.A).lower().strip() # Remove special characters, whitespaces and make lower case\n",
    "    tokens = nltk.WordPunctTokenizer().tokenize(doc) # Tokenize\n",
    "    filtered_tokens = [token for token in tokens if token not in nltk.corpus.stopwords.words('english')] # Remove stopwords\n",
    "    doc = ' '.join(filtered_tokens) # Re-create document from filtered tokens\n",
    "    return doc"
   ]
  },
  {
   "cell_type": "code",
   "execution_count": 75,
   "metadata": {},
   "outputs": [],
   "source": [
    "def get_words(sentence):\n",
    "    stemmer = PorterStemmer()\n",
    "    words = [stemmer.stem(x) for x in simplify(sentence).split()]\n",
    "    return words"
   ]
  },
  {
   "cell_type": "code",
   "execution_count": 23,
   "metadata": {},
   "outputs": [],
   "source": [
    "#dataset = load_files('reviews')\n",
    "#features, labels = dataset.data, dataset.target"
   ]
  },
  {
   "cell_type": "code",
   "execution_count": 30,
   "metadata": {},
   "outputs": [],
   "source": [
    "# with open('features.pickle', 'wb') as f:\n",
    "#     pickle.dump(features, f)\n",
    "# with open('labels.pickle', 'wb') as f:\n",
    "#     pickle.dump(labels, f)"
   ]
  },
  {
   "cell_type": "code",
   "execution_count": 31,
   "metadata": {},
   "outputs": [],
   "source": [
    "# Loading dataset (Unpickling datasets)\n",
    "with open('features.pickle', 'rb') as f:\n",
    "    features = pickle.load(f)\n",
    "    \n",
    "with open('labels.pickle', 'rb') as f:\n",
    "    labels = pickle.load(f)"
   ]
  },
  {
   "cell_type": "code",
   "execution_count": 76,
   "metadata": {},
   "outputs": [],
   "source": [
    "word_sentiment = {}"
   ]
  },
  {
   "cell_type": "code",
   "execution_count": 77,
   "metadata": {},
   "outputs": [],
   "source": [
    "for i in range(len(features)):\n",
    "    sentiment, line = labels[i],str(features[i])\n",
    "    words = get_words(line)\n",
    "    for word in words:\n",
    "        try: # Increment weight of the word by 1 if positive, decrement weight by 1 if negative\n",
    "            word_sentiment[word][0] = word_sentiment[word][0] + 1 if int(sentiment) == 1 else word_sentiment[word][0] - 1\n",
    "        except: # If word doesn't exist, create new entry in dictionary\n",
    "            word_sentiment[word] = [1, 0] if int(sentiment) == 1 else [-1, 0]\n",
    "        finally: # Increment number of occurences of the word; used later to compute the weighted sum instead of just sum\n",
    "            word_sentiment[word][1] += 1"
   ]
  },
  {
   "cell_type": "code",
   "execution_count": 78,
   "metadata": {},
   "outputs": [],
   "source": [
    "word_weighted_sentiment = {word: word_sentiment[word][0] / word_sentiment[word][1] for word in word_sentiment.keys()}\n",
    "# Weighted sum of the sentiment of each word (divide weight of the word by number of occurences of the word)"
   ]
  },
  {
   "cell_type": "code",
   "execution_count": 83,
   "metadata": {},
   "outputs": [],
   "source": [
    "text_to_sentiment = \"bad film\""
   ]
  },
  {
   "cell_type": "code",
   "execution_count": 84,
   "metadata": {},
   "outputs": [
    {
     "name": "stdout",
     "output_type": "stream",
     "text": [
      "Negative\n"
     ]
    }
   ],
   "source": [
    "sentiment = 0\n",
    "words = get_words(text_to_sentiment)\n",
    "for word in words:\n",
    "    try:\n",
    "        sentiment += word_weighted_sentiment[word] # Compute sum of weighted sentiments of the words in the review\n",
    "    except:\n",
    "        sentiment += 0 # MISSING WORDS (words in testing data but not training data) ARE GIVEN SENTIMENT OF 0\n",
    "if sentiment >= 0:\n",
    "    print(\"Possitive\")\n",
    "else:\n",
    "    print(\"Negative\")"
   ]
  }
 ],
 "metadata": {
  "kernelspec": {
   "display_name": "Python 3",
   "language": "python",
   "name": "python3"
  },
  "language_info": {
   "codemirror_mode": {
    "name": "ipython",
    "version": 3
   },
   "file_extension": ".py",
   "mimetype": "text/x-python",
   "name": "python",
   "nbconvert_exporter": "python",
   "pygments_lexer": "ipython3",
   "version": "3.6.9"
  }
 },
 "nbformat": 4,
 "nbformat_minor": 4
}
