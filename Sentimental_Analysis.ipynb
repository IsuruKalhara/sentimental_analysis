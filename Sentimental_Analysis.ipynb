{
 "cells": [
  {
   "cell_type": "code",
   "execution_count": 30,
   "metadata": {},
   "outputs": [],
   "source": [
    "import nltk\n",
    "import re\n",
    "import pickle\n",
    "from sklearn.datasets import load_files\n",
    "from nltk.stem.porter import *"
   ]
  },
  {
   "cell_type": "code",
   "execution_count": 31,
   "metadata": {},
   "outputs": [],
   "source": [
    "def simplify(doc):\n",
    "    #Remove all other letters except a-zA-Z and spaces. And make it lower case\n",
    "    doc = re.sub(r'[^a-zA-Z\\s]', '', doc, re.I|re.A).lower().strip() \n",
    "    # Tokenize\n",
    "    tokens = nltk.WordPunctTokenizer().tokenize(doc) \n",
    "    # Remove stopwords\n",
    "    filtered_tokens = [token for token in tokens if token not in nltk.corpus.stopwords.words('english')] \n",
    "    # Re-create document from filtered tokens\n",
    "    doc = ' '.join(filtered_tokens) \n",
    "    return doc"
   ]
  },
  {
   "cell_type": "code",
   "execution_count": 32,
   "metadata": {},
   "outputs": [],
   "source": [
    "def get_words(sentence):\n",
    "    stemmer = PorterStemmer()\n",
    "    words = [stemmer.stem(x) for x in simplify(sentence).split()]\n",
    "    return words"
   ]
  },
  {
   "cell_type": "code",
   "execution_count": 33,
   "metadata": {},
   "outputs": [],
   "source": [
    "#dataset = load_files('reviews')\n",
    "#features, labels = dataset.data, dataset.target"
   ]
  },
  {
   "cell_type": "code",
   "execution_count": 34,
   "metadata": {},
   "outputs": [],
   "source": [
    "# with open('features.pickle', 'wb') as f:\n",
    "#     pickle.dump(features, f)\n",
    "# with open('labels.pickle', 'wb') as f:\n",
    "#     pickle.dump(labels, f)"
   ]
  },
  {
   "cell_type": "code",
   "execution_count": 35,
   "metadata": {},
   "outputs": [],
   "source": [
    "# Loading dataset (Unpickling datasets)\n",
    "with open('features.pickle', 'rb') as f:\n",
    "    features = pickle.load(f)\n",
    "    \n",
    "with open('labels.pickle', 'rb') as f:\n",
    "    labels = pickle.load(f)"
   ]
  },
  {
   "cell_type": "code",
   "execution_count": 36,
   "metadata": {},
   "outputs": [],
   "source": [
    "word_sentiment = {}"
   ]
  },
  {
   "cell_type": "code",
   "execution_count": 37,
   "metadata": {},
   "outputs": [],
   "source": [
    "for i in range(len(features)):\n",
    "    sentiment, line = labels[i],str(features[i])\n",
    "    words = get_words(line)\n",
    "    for word in words:\n",
    "        try: \n",
    "            # Setting word sentiment weights. \n",
    "            if int(sentiment) == 1:\n",
    "                word_sentiment[word][0] = word_sentiment[word][0] + 1 \n",
    "            else:\n",
    "                word_sentiment[word][1] = word_sentiment[word][1] + 1 \n",
    "        except: \n",
    "            # New word. Create new entry\n",
    "            if int(sentiment) == 1:\n",
    "                word_sentiment[word] = [1, 0, 0]  \n",
    "            else:\n",
    "                word_sentiment[word] = [0, 1 ,0]\n",
    "                \n",
    "        finally: \n",
    "            # Increce occurrences count of words.\n",
    "            word_sentiment[word][2] += 1"
   ]
  },
  {
   "cell_type": "code",
   "execution_count": 38,
   "metadata": {},
   "outputs": [],
   "source": [
    "# Weighted sum of the sentiment of each word (divided by the number of occurences of the word)\n",
    "\n",
    "word_weighted_sentiment = {word: ( (word_sentiment[word][0]-word_sentiment[word][1]) / word_sentiment[word][2] ) for word in word_sentiment.keys()}\n"
   ]
  },
  {
   "cell_type": "code",
   "execution_count": 44,
   "metadata": {},
   "outputs": [],
   "source": [
    "text_to_sentiment = \"The frivolous blend of ludicrous mystery and tepid romance offered in Digging For Fire got me quickly bored.\"\n",
    "#\"Despite the flaw of being heavily biased in portraying [Abdul] El-Sayed in the best possible light, How to Fix a Primary does an admirable job of putting his campaign in a larger context of how much can be bought and sold in an election.\"\n"
   ]
  },
  {
   "cell_type": "code",
   "execution_count": 45,
   "metadata": {},
   "outputs": [
    {
     "name": "stdout",
     "output_type": "stream",
     "text": [
      "Negative\n"
     ]
    }
   ],
   "source": [
    "sentiment = 0\n",
    "words = get_words(text_to_sentiment)\n",
    "for word in words:\n",
    "    try:\n",
    "        # Compute sum of weighted sentiments of the words in the review\n",
    "        sentiment += word_weighted_sentiment[word] \n",
    "    except:\n",
    "        # For new words sentiment is 0 \n",
    "        sentiment += 0 \n",
    "if sentiment >= 0:\n",
    "    print(\"Possitive\")\n",
    "else:\n",
    "    print(\"Negative\")"
   ]
  },
  {
   "cell_type": "code",
   "execution_count": null,
   "metadata": {},
   "outputs": [],
   "source": []
  }
 ],
 "metadata": {
  "kernelspec": {
   "display_name": "Python 3",
   "language": "python",
   "name": "python3"
  },
  "language_info": {
   "codemirror_mode": {
    "name": "ipython",
    "version": 3
   },
   "file_extension": ".py",
   "mimetype": "text/x-python",
   "name": "python",
   "nbconvert_exporter": "python",
   "pygments_lexer": "ipython3",
   "version": "3.6.9"
  }
 },
 "nbformat": 4,
 "nbformat_minor": 4
}
